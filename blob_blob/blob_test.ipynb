{
 "cells": [
  {
   "cell_type": "code",
   "execution_count": null,
   "metadata": {},
   "outputs": [],
   "source": [
    "# from azure.storage.blob import BlobServiceClient\n",
    "\n",
    "# # Replace with your connection string\n",
    "# connection_string = \"AccountName=devstoreaccount1;AccountKey=Eby8vdM02xNOcqFlqUwJPLlmEtlCDXJ1OUzFT50uSRZ6IFsuFq2UVErCz4I6tq/K1SZFPTOtr/KBHBeksoGMGw==;DefaultEndpointsProtocol=http;BlobEndpoint=http://127.0.0.1:10000/devstoreaccount1;QueueEndpoint=http://127.0.0.1:10001/devstoreaccount1;TableEndpoint=http://127.0.0.1:10002/devstoreaccount1;\"\n",
    "# blob_service_client = BlobServiceClient.from_connection_string(connection_string)\n",
    "# container_name = \"temp-container-01\"\n",
    "\n",
    "# file_path=\"C:/Users/afiqhusaini.rosdi/OneDrive - PLUS MALAYSIA BERHAD/Documents/Working_Projects/software-apm-template/210923 IP HD Camera And ANPR Engine IP ADDRESS DETAILS 2.xlsx\"\n",
    "\n",
    "# # def upload_blob(container_name, blob, file_path):\n",
    "# #     blob_client = blob_service_client.get_blob_client(container=container_name, blob=file_path)\n",
    "# #     with open(file_path, \"rb\") as file:\n",
    "# #         blob_client.upload_blob(file, overwrite=True)\n"
   ]
  },
  {
   "cell_type": "markdown",
   "metadata": {},
   "source": [
    "### Connect via Connection String"
   ]
  },
  {
   "cell_type": "code",
   "execution_count": null,
   "metadata": {},
   "outputs": [],
   "source": [
    "from azure.storage.blob import BlobServiceClient\n",
    "import os\n",
    "from dotenv import load_dotenv\n",
    "\n",
    "\n",
    "# Initialize the BlobServiceClient with a connection string\n",
    "connection_string = os.getenv(\"CONNECTION_STRING\")\n",
    "blob_service_client = BlobServiceClient.from_connection_string(connection_string)"
   ]
  },
  {
   "cell_type": "markdown",
   "metadata": {},
   "source": [
    "### Create a blob container"
   ]
  },
  {
   "cell_type": "code",
   "execution_count": null,
   "metadata": {},
   "outputs": [
    {
     "name": "stdout",
     "output_type": "stream",
     "text": [
      "Container created successfully.\n"
     ]
    }
   ],
   "source": [
    "# Create a new blob container\n",
    "# blob_service_client.create_container(\"test-1\")\n",
    "\n",
    "try:\n",
    "    container_client = blob_service_client.create_container(\"container-02\") # create a container\n",
    "    print(\"Container created successfully.\")\n",
    "\n",
    "except Exception as e:\n",
    "    print(f\"Error: {e}\")"
   ]
  },
  {
   "cell_type": "markdown",
   "metadata": {},
   "source": [
    "### Upload file into blob container"
   ]
  },
  {
   "cell_type": "code",
   "execution_count": 8,
   "metadata": {},
   "outputs": [],
   "source": [
    "file_path=\"C:/Users/afiqhusaini.rosdi/OneDrive - PLUS MALAYSIA BERHAD/Documents/rnd_projects/blobstorage/LCS0029.LOG\"\n",
    "\n",
    "blob_client = blob_service_client.get_blob_client(container=\"container-01\", blob=\"LCS0029.LOG\")\n",
    "with open(file_path, \"rb\") as csv_file:\n",
    "    blob_client.upload_blob(csv_file, overwrite=True)\n"
   ]
  },
  {
   "cell_type": "markdown",
   "metadata": {},
   "source": [
    "### Get Container Client"
   ]
  },
  {
   "cell_type": "code",
   "execution_count": null,
   "metadata": {},
   "outputs": [],
   "source": [
    "container_client_3 = blob_service_client.get_container_client(\"container-01\")"
   ]
  },
  {
   "cell_type": "markdown",
   "metadata": {},
   "source": [
    "### Delete blob container\n"
   ]
  },
  {
   "cell_type": "code",
   "execution_count": 5,
   "metadata": {},
   "outputs": [
    {
     "name": "stdout",
     "output_type": "stream",
     "text": [
      "Container deleted successfully.\n"
     ]
    }
   ],
   "source": [
    "try:\n",
    "    blob_service_client.delete_container(\"baru\")\n",
    "    print(\"Container deleted successfully.\")\n",
    "except Exception as e:\n",
    "    print(f\"Error: {e}\")\n"
   ]
  },
  {
   "cell_type": "markdown",
   "metadata": {},
   "source": [
    "### List container"
   ]
  },
  {
   "cell_type": "code",
   "execution_count": 11,
   "metadata": {},
   "outputs": [
    {
     "name": "stdout",
     "output_type": "stream",
     "text": [
      "Listing containers and blobs:\n",
      " - Container: container-01\n",
      "   - Blob: LCS0029.LOG\n",
      " - Container: container-02\n"
     ]
    }
   ],
   "source": [
    "def list_containers_and_blobs():\n",
    "\n",
    "    containers = blob_service_client.list_containers()\n",
    "\n",
    "    print(\"Listing containers and blobs:\")\n",
    "\n",
    "    for container in containers:\n",
    "        print(f\" - Container: {container.name}\")\n",
    "\n",
    "        container_client = blob_service_client.get_container_client(container)\n",
    "        blobs = container_client.list_blobs()\n",
    "\n",
    "        for blob in blobs:\n",
    "            print(f\"   - Blob: {blob.name}\")\n",
    "\n",
    "list_containers_and_blobs()"
   ]
  },
  {
   "cell_type": "markdown",
   "metadata": {},
   "source": [
    "### List blobs"
   ]
  },
  {
   "cell_type": "code",
   "execution_count": 12,
   "metadata": {},
   "outputs": [
    {
     "name": "stdout",
     "output_type": "stream",
     "text": [
      "Blob name: LCS0029.LOG\n"
     ]
    }
   ],
   "source": [
    "# def list_blobs(container_name):\n",
    "container_client = blob_service_client.get_container_client(\"container-01\")\n",
    "blobs = container_client.list_blobs()\n",
    "for blob in blobs:\n",
    "    print(f\"Blob name: {blob.name}\")\n"
   ]
  },
  {
   "cell_type": "markdown",
   "metadata": {},
   "source": [
    "### Download / Fetch from blob container"
   ]
  },
  {
   "cell_type": "code",
   "execution_count": null,
   "metadata": {},
   "outputs": [
    {
     "name": "stdout",
     "output_type": "stream",
     "text": [
      "Blob downloaded to downloaded_blob.csv\n"
     ]
    }
   ],
   "source": [
    "\n",
    "# Define the container and blob name\n",
    "container_name = \"container-01\"\n",
    "blob_name = \"LCS0029.LOG\"\n",
    "download_file_path = \"downloaded_blob.csv\"\n",
    "\n",
    "# Get the BlobClient for the specific blob\n",
    "blob_client = blob_service_client.get_blob_client(container=container_name, blob=blob_name)\n",
    "\n",
    "# Download and save the blob content to a local file\n",
    "with open(download_file_path, \"wb\") as download_file:\n",
    "    download_file.write(blob_client.download_blob().readall())\n",
    "\n",
    "print(f\"Blob downloaded to {download_file_path}\")\n"
   ]
  },
  {
   "cell_type": "code",
   "execution_count": null,
   "metadata": {},
   "outputs": [],
   "source": [
    "import pandas as pd\n",
    "\n",
    "# Define the container and blob name\n",
    "container_name = \"temp-container-01\"\n",
    "blob_name = \"images.csv\"\n",
    "\n",
    "# Get the BlobClient for the specific blob\n",
    "blob_client = blob_service_client.get_blob_client(container=container_name, blob=blob_name)\n",
    "\n",
    "# Download the blob content\n",
    "blob_data = blob_client.download_blob().readall()\n",
    "blob_data  # Output blob content as bytes\n"
   ]
  },
  {
   "cell_type": "code",
   "execution_count": 19,
   "metadata": {},
   "outputs": [
    {
     "data": {
      "text/plain": [
       "'c:\\\\Users\\\\afiqhusaini.rosdi\\\\OneDrive - PLUS MALAYSIA BERHAD\\\\Documents\\\\Working_Projects\\\\software-apm-template\\\\blobstorage'"
      ]
     },
     "execution_count": 19,
     "metadata": {},
     "output_type": "execute_result"
    }
   ],
   "source": [
    "%pwd"
   ]
  }
 ],
 "metadata": {
  "kernelspec": {
   "display_name": "rnd-env",
   "language": "python",
   "name": "python3"
  },
  "language_info": {
   "codemirror_mode": {
    "name": "ipython",
    "version": 3
   },
   "file_extension": ".py",
   "mimetype": "text/x-python",
   "name": "python",
   "nbconvert_exporter": "python",
   "pygments_lexer": "ipython3",
   "version": "3.13.0"
  }
 },
 "nbformat": 4,
 "nbformat_minor": 2
}
