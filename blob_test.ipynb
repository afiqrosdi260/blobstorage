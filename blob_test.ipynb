{
 "cells": [
  {
   "cell_type": "code",
   "execution_count": null,
   "metadata": {},
   "outputs": [],
   "source": [
    "# from azure.storage.blob import BlobServiceClient\n",
    "\n",
    "# # Replace with your connection string\n",
    "# connection_string = \"AccountName=devstoreaccount1;AccountKey=Eby8vdM02xNOcqFlqUwJPLlmEtlCDXJ1OUzFT50uSRZ6IFsuFq2UVErCz4I6tq/K1SZFPTOtr/KBHBeksoGMGw==;DefaultEndpointsProtocol=http;BlobEndpoint=http://127.0.0.1:10000/devstoreaccount1;QueueEndpoint=http://127.0.0.1:10001/devstoreaccount1;TableEndpoint=http://127.0.0.1:10002/devstoreaccount1;\"\n",
    "# blob_service_client = BlobServiceClient.from_connection_string(connection_string)\n",
    "# container_name = \"temp-container-01\"\n",
    "\n",
    "# file_path=\"C:/Users/afiqhusaini.rosdi/OneDrive - PLUS MALAYSIA BERHAD/Documents/Working_Projects/software-apm-template/210923 IP HD Camera And ANPR Engine IP ADDRESS DETAILS 2.xlsx\"\n",
    "\n",
    "# # def upload_blob(container_name, blob, file_path):\n",
    "# #     blob_client = blob_service_client.get_blob_client(container=container_name, blob=file_path)\n",
    "# #     with open(file_path, \"rb\") as file:\n",
    "# #         blob_client.upload_blob(file, overwrite=True)\n"
   ]
  },
  {
   "cell_type": "code",
   "execution_count": 11,
   "metadata": {},
   "outputs": [
    {
     "name": "stdout",
     "output_type": "stream",
     "text": [
      "Requirement already satisfied: azure-storage-blob in c:\\users\\afiqhusaini.rosdi\\appdata\\local\\anaconda3\\envs\\rnd-env\\lib\\site-packages (12.23.1)\n",
      "Requirement already satisfied: azure-core>=1.30.0 in c:\\users\\afiqhusaini.rosdi\\appdata\\local\\anaconda3\\envs\\rnd-env\\lib\\site-packages (from azure-storage-blob) (1.32.0)\n",
      "Requirement already satisfied: cryptography>=2.1.4 in c:\\users\\afiqhusaini.rosdi\\appdata\\local\\anaconda3\\envs\\rnd-env\\lib\\site-packages (from azure-storage-blob) (43.0.3)\n",
      "Requirement already satisfied: typing-extensions>=4.6.0 in c:\\users\\afiqhusaini.rosdi\\appdata\\local\\anaconda3\\envs\\rnd-env\\lib\\site-packages (from azure-storage-blob) (4.12.2)\n",
      "Requirement already satisfied: isodate>=0.6.1 in c:\\users\\afiqhusaini.rosdi\\appdata\\local\\anaconda3\\envs\\rnd-env\\lib\\site-packages (from azure-storage-blob) (0.7.2)\n",
      "Requirement already satisfied: requests>=2.21.0 in c:\\users\\afiqhusaini.rosdi\\appdata\\local\\anaconda3\\envs\\rnd-env\\lib\\site-packages (from azure-core>=1.30.0->azure-storage-blob) (2.32.3)\n",
      "Requirement already satisfied: six>=1.11.0 in c:\\users\\afiqhusaini.rosdi\\appdata\\local\\anaconda3\\envs\\rnd-env\\lib\\site-packages (from azure-core>=1.30.0->azure-storage-blob) (1.16.0)\n",
      "Requirement already satisfied: cffi>=1.12 in c:\\users\\afiqhusaini.rosdi\\appdata\\local\\anaconda3\\envs\\rnd-env\\lib\\site-packages (from cryptography>=2.1.4->azure-storage-blob) (1.17.1)\n",
      "Requirement already satisfied: pycparser in c:\\users\\afiqhusaini.rosdi\\appdata\\local\\anaconda3\\envs\\rnd-env\\lib\\site-packages (from cffi>=1.12->cryptography>=2.1.4->azure-storage-blob) (2.22)\n",
      "Requirement already satisfied: charset-normalizer<4,>=2 in c:\\users\\afiqhusaini.rosdi\\appdata\\local\\anaconda3\\envs\\rnd-env\\lib\\site-packages (from requests>=2.21.0->azure-core>=1.30.0->azure-storage-blob) (3.4.0)\n",
      "Requirement already satisfied: idna<4,>=2.5 in c:\\users\\afiqhusaini.rosdi\\appdata\\local\\anaconda3\\envs\\rnd-env\\lib\\site-packages (from requests>=2.21.0->azure-core>=1.30.0->azure-storage-blob) (3.10)\n",
      "Requirement already satisfied: urllib3<3,>=1.21.1 in c:\\users\\afiqhusaini.rosdi\\appdata\\local\\anaconda3\\envs\\rnd-env\\lib\\site-packages (from requests>=2.21.0->azure-core>=1.30.0->azure-storage-blob) (2.2.3)\n",
      "Requirement already satisfied: certifi>=2017.4.17 in c:\\users\\afiqhusaini.rosdi\\appdata\\local\\anaconda3\\envs\\rnd-env\\lib\\site-packages (from requests>=2.21.0->azure-core>=1.30.0->azure-storage-blob) (2024.8.30)\n",
      "Note: you may need to restart the kernel to use updated packages.\n"
     ]
    }
   ],
   "source": [
    "pip install azure-storage-blob"
   ]
  },
  {
   "cell_type": "markdown",
   "metadata": {},
   "source": [
    "### Connect via Connection String"
   ]
  },
  {
   "cell_type": "code",
   "execution_count": 12,
   "metadata": {},
   "outputs": [
    {
     "ename": "AttributeError",
     "evalue": "'NoneType' object has no attribute 'rstrip'",
     "output_type": "error",
     "traceback": [
      "\u001b[1;31m---------------------------------------------------------------------------\u001b[0m",
      "\u001b[1;31mAttributeError\u001b[0m                            Traceback (most recent call last)",
      "Cell \u001b[1;32mIn[12], line 7\u001b[0m\n\u001b[0;32m      5\u001b[0m \u001b[38;5;66;03m# Initialize the BlobServiceClient with a connection string\u001b[39;00m\n\u001b[0;32m      6\u001b[0m connection_string \u001b[38;5;241m=\u001b[39m os\u001b[38;5;241m.\u001b[39mgetenv(\u001b[38;5;124m'\u001b[39m\u001b[38;5;124mCONNECTION_STRING\u001b[39m\u001b[38;5;124m'\u001b[39m)\n\u001b[1;32m----> 7\u001b[0m blob_service_client \u001b[38;5;241m=\u001b[39m \u001b[43mBlobServiceClient\u001b[49m\u001b[38;5;241;43m.\u001b[39;49m\u001b[43mfrom_connection_string\u001b[49m\u001b[43m(\u001b[49m\u001b[43mconnection_string\u001b[49m\u001b[43m)\u001b[49m\n\u001b[0;32m      9\u001b[0m \u001b[38;5;66;03m# Define the container and blob name\u001b[39;00m\n\u001b[0;32m     10\u001b[0m \u001b[38;5;66;03m# container_name = \"temp-container-01\"\u001b[39;00m\n",
      "File \u001b[1;32mc:\\Users\\afiqhusaini.rosdi\\AppData\\Local\\anaconda3\\envs\\rnd-env\\Lib\\site-packages\\azure\\storage\\blob\\_blob_service_client.py:184\u001b[0m, in \u001b[0;36mBlobServiceClient.from_connection_string\u001b[1;34m(cls, conn_str, credential, **kwargs)\u001b[0m\n\u001b[0;32m    145\u001b[0m \u001b[38;5;129m@classmethod\u001b[39m\n\u001b[0;32m    146\u001b[0m \u001b[38;5;28;01mdef\u001b[39;00m \u001b[38;5;21mfrom_connection_string\u001b[39m(\n\u001b[0;32m    147\u001b[0m     \u001b[38;5;28mcls\u001b[39m, conn_str: \u001b[38;5;28mstr\u001b[39m,\n\u001b[0;32m    148\u001b[0m     credential: Optional[Union[\u001b[38;5;28mstr\u001b[39m, Dict[\u001b[38;5;28mstr\u001b[39m, \u001b[38;5;28mstr\u001b[39m], \u001b[38;5;124m\"\u001b[39m\u001b[38;5;124mAzureNamedKeyCredential\u001b[39m\u001b[38;5;124m\"\u001b[39m, \u001b[38;5;124m\"\u001b[39m\u001b[38;5;124mAzureSasCredential\u001b[39m\u001b[38;5;124m\"\u001b[39m, \u001b[38;5;124m\"\u001b[39m\u001b[38;5;124mTokenCredential\u001b[39m\u001b[38;5;124m\"\u001b[39m]] \u001b[38;5;241m=\u001b[39m \u001b[38;5;28;01mNone\u001b[39;00m,  \u001b[38;5;66;03m# pylint: disable=line-too-long\u001b[39;00m\n\u001b[0;32m    149\u001b[0m     \u001b[38;5;241m*\u001b[39m\u001b[38;5;241m*\u001b[39mkwargs: Any\n\u001b[0;32m    150\u001b[0m ) \u001b[38;5;241m-\u001b[39m\u001b[38;5;241m>\u001b[39m Self:\n\u001b[0;32m    151\u001b[0m \u001b[38;5;250m    \u001b[39m\u001b[38;5;124;03m\"\"\"Create BlobServiceClient from a Connection String.\u001b[39;00m\n\u001b[0;32m    152\u001b[0m \n\u001b[0;32m    153\u001b[0m \u001b[38;5;124;03m    :param str conn_str:\u001b[39;00m\n\u001b[1;32m   (...)\u001b[0m\n\u001b[0;32m    182\u001b[0m \u001b[38;5;124;03m            :caption: Creating the BlobServiceClient from a connection string.\u001b[39;00m\n\u001b[0;32m    183\u001b[0m \u001b[38;5;124;03m    \"\"\"\u001b[39;00m\n\u001b[1;32m--> 184\u001b[0m     account_url, secondary, credential \u001b[38;5;241m=\u001b[39m \u001b[43mparse_connection_str\u001b[49m\u001b[43m(\u001b[49m\u001b[43mconn_str\u001b[49m\u001b[43m,\u001b[49m\u001b[43m \u001b[49m\u001b[43mcredential\u001b[49m\u001b[43m,\u001b[49m\u001b[43m \u001b[49m\u001b[38;5;124;43m'\u001b[39;49m\u001b[38;5;124;43mblob\u001b[39;49m\u001b[38;5;124;43m'\u001b[39;49m\u001b[43m)\u001b[49m\n\u001b[0;32m    185\u001b[0m     \u001b[38;5;28;01mif\u001b[39;00m \u001b[38;5;124m'\u001b[39m\u001b[38;5;124msecondary_hostname\u001b[39m\u001b[38;5;124m'\u001b[39m \u001b[38;5;129;01mnot\u001b[39;00m \u001b[38;5;129;01min\u001b[39;00m kwargs:\n\u001b[0;32m    186\u001b[0m         kwargs[\u001b[38;5;124m'\u001b[39m\u001b[38;5;124msecondary_hostname\u001b[39m\u001b[38;5;124m'\u001b[39m] \u001b[38;5;241m=\u001b[39m secondary\n",
      "File \u001b[1;32mc:\\Users\\afiqhusaini.rosdi\\AppData\\Local\\anaconda3\\envs\\rnd-env\\Lib\\site-packages\\azure\\storage\\blob\\_shared\\base_client.py:389\u001b[0m, in \u001b[0;36mparse_connection_str\u001b[1;34m(conn_str, credential, service)\u001b[0m\n\u001b[0;32m    384\u001b[0m \u001b[38;5;28;01mdef\u001b[39;00m \u001b[38;5;21mparse_connection_str\u001b[39m(\n\u001b[0;32m    385\u001b[0m     conn_str: \u001b[38;5;28mstr\u001b[39m,\n\u001b[0;32m    386\u001b[0m     credential: Optional[Union[\u001b[38;5;28mstr\u001b[39m, Dict[\u001b[38;5;28mstr\u001b[39m, \u001b[38;5;28mstr\u001b[39m], AzureNamedKeyCredential, AzureSasCredential, TokenCredential]], \u001b[38;5;66;03m# pylint: disable=line-too-long\u001b[39;00m\n\u001b[0;32m    387\u001b[0m     service: \u001b[38;5;28mstr\u001b[39m\n\u001b[0;32m    388\u001b[0m ) \u001b[38;5;241m-\u001b[39m\u001b[38;5;241m>\u001b[39m Tuple[\u001b[38;5;28mstr\u001b[39m, Optional[\u001b[38;5;28mstr\u001b[39m], Optional[Union[\u001b[38;5;28mstr\u001b[39m, Dict[\u001b[38;5;28mstr\u001b[39m, \u001b[38;5;28mstr\u001b[39m], AzureNamedKeyCredential, AzureSasCredential, TokenCredential]]]: \u001b[38;5;66;03m# pylint: disable=line-too-long\u001b[39;00m\n\u001b[1;32m--> 389\u001b[0m     conn_str \u001b[38;5;241m=\u001b[39m \u001b[43mconn_str\u001b[49m\u001b[38;5;241;43m.\u001b[39;49m\u001b[43mrstrip\u001b[49m(\u001b[38;5;124m\"\u001b[39m\u001b[38;5;124m;\u001b[39m\u001b[38;5;124m\"\u001b[39m)\n\u001b[0;32m    390\u001b[0m     conn_settings_list \u001b[38;5;241m=\u001b[39m [s\u001b[38;5;241m.\u001b[39msplit(\u001b[38;5;124m\"\u001b[39m\u001b[38;5;124m=\u001b[39m\u001b[38;5;124m\"\u001b[39m, \u001b[38;5;241m1\u001b[39m) \u001b[38;5;28;01mfor\u001b[39;00m s \u001b[38;5;129;01min\u001b[39;00m conn_str\u001b[38;5;241m.\u001b[39msplit(\u001b[38;5;124m\"\u001b[39m\u001b[38;5;124m;\u001b[39m\u001b[38;5;124m\"\u001b[39m)]\n\u001b[0;32m    391\u001b[0m     \u001b[38;5;28;01mif\u001b[39;00m \u001b[38;5;28many\u001b[39m(\u001b[38;5;28mlen\u001b[39m(tup) \u001b[38;5;241m!=\u001b[39m \u001b[38;5;241m2\u001b[39m \u001b[38;5;28;01mfor\u001b[39;00m tup \u001b[38;5;129;01min\u001b[39;00m conn_settings_list):\n",
      "\u001b[1;31mAttributeError\u001b[0m: 'NoneType' object has no attribute 'rstrip'"
     ]
    }
   ],
   "source": [
    "from azure.storage.blob import BlobServiceClient\n",
    "import os\n",
    "from dotenv import load_dotenv\n",
    "\n",
    "# Initialize the BlobServiceClient with a connection string\n",
    "connection_string = os.getenv('CONNECTION_STRING')\n",
    "blob_service_client = BlobServiceClient.from_connection_string(connection_string)\n",
    "\n",
    "# Define the container and blob name\n",
    "# container_name = \"temp-container-01\"\n",
    "\n"
   ]
  },
  {
   "cell_type": "markdown",
   "metadata": {},
   "source": [
    "### Upload file into blob container"
   ]
  },
  {
   "cell_type": "code",
   "execution_count": 4,
   "metadata": {},
   "outputs": [],
   "source": [
    "file_path=\"C:/Users/afiqhusaini.rosdi/OneDrive - PLUS MALAYSIA BERHAD/Documents/Working_Projects/software-apm-template/210923 IP HD Camera And ANPR Engine IP ADDRESS DETAILS 2.xlsx\"\n",
    "\n",
    "blob_client = blob_service_client.get_blob_client(container=container_name, blob=\"210923 IP HD Camera And ANPR Engine IP ADDRESS DETAILS 2.csv\")\n",
    "with open(file_path, \"rb\") as csv_file:\n",
    "    blob_client.upload_blob(csv_file, overwrite=True)\n"
   ]
  },
  {
   "cell_type": "markdown",
   "metadata": {},
   "source": [
    "### Create a blob container"
   ]
  },
  {
   "cell_type": "code",
   "execution_count": 13,
   "metadata": {},
   "outputs": [
    {
     "name": "stdout",
     "output_type": "stream",
     "text": [
      "Container created successfully.\n"
     ]
    }
   ],
   "source": [
    "container_name_2 = \"my-container\"\n",
    "\n",
    "try:\n",
    "    container_client = blob_service_client.create_container(\"baru\") # create a container\n",
    "    print(\"Container created successfully.\")\n",
    "except Exception as e:\n",
    "\n",
    "    print(f\"Error: {e}\")\n"
   ]
  },
  {
   "cell_type": "code",
   "execution_count": 6,
   "metadata": {},
   "outputs": [
    {
     "ename": "ResourceExistsError",
     "evalue": "The specified container already exists.\nRequestId:d4f23996-c6b2-4db4-ae7d-d667ce2af4c5\nTime:2024-11-01T03:23:24.197Z\nErrorCode:ContainerAlreadyExists\nContent: <?xml version=\"1.0\" encoding=\"UTF-8\" standalone=\"yes\"?>\n<Error>\n  <Code>ContainerAlreadyExists</Code>\n  <Message>The specified container already exists.\nRequestId:d4f23996-c6b2-4db4-ae7d-d667ce2af4c5\nTime:2024-11-01T03:23:24.197Z</Message>\n</Error>",
     "output_type": "error",
     "traceback": [
      "\u001b[1;31m---------------------------------------------------------------------------\u001b[0m",
      "\u001b[1;31mResourceExistsError\u001b[0m                       Traceback (most recent call last)",
      "Cell \u001b[1;32mIn[6], line 1\u001b[0m\n\u001b[1;32m----> 1\u001b[0m \u001b[43mblob_service_client\u001b[49m\u001b[38;5;241;43m.\u001b[39;49m\u001b[43mcreate_container\u001b[49m\u001b[43m(\u001b[49m\u001b[38;5;124;43m\"\u001b[39;49m\u001b[38;5;124;43mtest-1\u001b[39;49m\u001b[38;5;124;43m\"\u001b[39;49m\u001b[43m)\u001b[49m\n",
      "File \u001b[1;32mc:\\Users\\afiqhusaini.rosdi\\AppData\\Local\\anaconda3\\envs\\myenv\\Lib\\site-packages\\azure\\core\\tracing\\decorator.py:94\u001b[0m, in \u001b[0;36mdistributed_trace.<locals>.decorator.<locals>.wrapper_use_tracer\u001b[1;34m(*args, **kwargs)\u001b[0m\n\u001b[0;32m     92\u001b[0m span_impl_type \u001b[38;5;241m=\u001b[39m settings\u001b[38;5;241m.\u001b[39mtracing_implementation()\n\u001b[0;32m     93\u001b[0m \u001b[38;5;28;01mif\u001b[39;00m span_impl_type \u001b[38;5;129;01mis\u001b[39;00m \u001b[38;5;28;01mNone\u001b[39;00m:\n\u001b[1;32m---> 94\u001b[0m     \u001b[38;5;28;01mreturn\u001b[39;00m \u001b[43mfunc\u001b[49m\u001b[43m(\u001b[49m\u001b[38;5;241;43m*\u001b[39;49m\u001b[43margs\u001b[49m\u001b[43m,\u001b[49m\u001b[43m \u001b[49m\u001b[38;5;241;43m*\u001b[39;49m\u001b[38;5;241;43m*\u001b[39;49m\u001b[43mkwargs\u001b[49m\u001b[43m)\u001b[49m\n\u001b[0;32m     96\u001b[0m \u001b[38;5;66;03m# Merge span is parameter is set, but only if no explicit parent are passed\u001b[39;00m\n\u001b[0;32m     97\u001b[0m \u001b[38;5;28;01mif\u001b[39;00m merge_span \u001b[38;5;129;01mand\u001b[39;00m \u001b[38;5;129;01mnot\u001b[39;00m passed_in_parent:\n",
      "File \u001b[1;32mc:\\Users\\afiqhusaini.rosdi\\AppData\\Local\\anaconda3\\envs\\myenv\\Lib\\site-packages\\azure\\storage\\blob\\_blob_service_client.py:556\u001b[0m, in \u001b[0;36mBlobServiceClient.create_container\u001b[1;34m(self, name, metadata, public_access, **kwargs)\u001b[0m\n\u001b[0;32m    554\u001b[0m kwargs\u001b[38;5;241m.\u001b[39msetdefault(\u001b[38;5;124m'\u001b[39m\u001b[38;5;124mmerge_span\u001b[39m\u001b[38;5;124m'\u001b[39m, \u001b[38;5;28;01mTrue\u001b[39;00m)\n\u001b[0;32m    555\u001b[0m timeout \u001b[38;5;241m=\u001b[39m kwargs\u001b[38;5;241m.\u001b[39mpop(\u001b[38;5;124m'\u001b[39m\u001b[38;5;124mtimeout\u001b[39m\u001b[38;5;124m'\u001b[39m, \u001b[38;5;28;01mNone\u001b[39;00m)\n\u001b[1;32m--> 556\u001b[0m \u001b[43mcontainer\u001b[49m\u001b[38;5;241;43m.\u001b[39;49m\u001b[43mcreate_container\u001b[49m\u001b[43m(\u001b[49m\n\u001b[0;32m    557\u001b[0m \u001b[43m    \u001b[49m\u001b[43mmetadata\u001b[49m\u001b[38;5;241;43m=\u001b[39;49m\u001b[43mmetadata\u001b[49m\u001b[43m,\u001b[49m\u001b[43m \u001b[49m\u001b[43mpublic_access\u001b[49m\u001b[38;5;241;43m=\u001b[39;49m\u001b[43mpublic_access\u001b[49m\u001b[43m,\u001b[49m\u001b[43m \u001b[49m\u001b[43mtimeout\u001b[49m\u001b[38;5;241;43m=\u001b[39;49m\u001b[43mtimeout\u001b[49m\u001b[43m,\u001b[49m\u001b[43m \u001b[49m\u001b[38;5;241;43m*\u001b[39;49m\u001b[38;5;241;43m*\u001b[39;49m\u001b[43mkwargs\u001b[49m\u001b[43m)\u001b[49m\n\u001b[0;32m    558\u001b[0m \u001b[38;5;28;01mreturn\u001b[39;00m container\n",
      "File \u001b[1;32mc:\\Users\\afiqhusaini.rosdi\\AppData\\Local\\anaconda3\\envs\\myenv\\Lib\\site-packages\\azure\\core\\tracing\\decorator.py:94\u001b[0m, in \u001b[0;36mdistributed_trace.<locals>.decorator.<locals>.wrapper_use_tracer\u001b[1;34m(*args, **kwargs)\u001b[0m\n\u001b[0;32m     92\u001b[0m span_impl_type \u001b[38;5;241m=\u001b[39m settings\u001b[38;5;241m.\u001b[39mtracing_implementation()\n\u001b[0;32m     93\u001b[0m \u001b[38;5;28;01mif\u001b[39;00m span_impl_type \u001b[38;5;129;01mis\u001b[39;00m \u001b[38;5;28;01mNone\u001b[39;00m:\n\u001b[1;32m---> 94\u001b[0m     \u001b[38;5;28;01mreturn\u001b[39;00m \u001b[43mfunc\u001b[49m\u001b[43m(\u001b[49m\u001b[38;5;241;43m*\u001b[39;49m\u001b[43margs\u001b[49m\u001b[43m,\u001b[49m\u001b[43m \u001b[49m\u001b[38;5;241;43m*\u001b[39;49m\u001b[38;5;241;43m*\u001b[39;49m\u001b[43mkwargs\u001b[49m\u001b[43m)\u001b[49m\n\u001b[0;32m     96\u001b[0m \u001b[38;5;66;03m# Merge span is parameter is set, but only if no explicit parent are passed\u001b[39;00m\n\u001b[0;32m     97\u001b[0m \u001b[38;5;28;01mif\u001b[39;00m merge_span \u001b[38;5;129;01mand\u001b[39;00m \u001b[38;5;129;01mnot\u001b[39;00m passed_in_parent:\n",
      "File \u001b[1;32mc:\\Users\\afiqhusaini.rosdi\\AppData\\Local\\anaconda3\\envs\\myenv\\Lib\\site-packages\\azure\\storage\\blob\\_container_client.py:321\u001b[0m, in \u001b[0;36mContainerClient.create_container\u001b[1;34m(self, metadata, public_access, **kwargs)\u001b[0m\n\u001b[0;32m    313\u001b[0m     \u001b[38;5;28;01mreturn\u001b[39;00m \u001b[38;5;28mself\u001b[39m\u001b[38;5;241m.\u001b[39m_client\u001b[38;5;241m.\u001b[39mcontainer\u001b[38;5;241m.\u001b[39mcreate( \u001b[38;5;66;03m# type: ignore\u001b[39;00m\n\u001b[0;32m    314\u001b[0m         timeout\u001b[38;5;241m=\u001b[39mtimeout,\n\u001b[0;32m    315\u001b[0m         access\u001b[38;5;241m=\u001b[39mpublic_access,\n\u001b[1;32m   (...)\u001b[0m\n\u001b[0;32m    318\u001b[0m         headers\u001b[38;5;241m=\u001b[39mheaders,\n\u001b[0;32m    319\u001b[0m         \u001b[38;5;241m*\u001b[39m\u001b[38;5;241m*\u001b[39mkwargs)\n\u001b[0;32m    320\u001b[0m \u001b[38;5;28;01mexcept\u001b[39;00m HttpResponseError \u001b[38;5;28;01mas\u001b[39;00m error:\n\u001b[1;32m--> 321\u001b[0m     \u001b[43mprocess_storage_error\u001b[49m\u001b[43m(\u001b[49m\u001b[43merror\u001b[49m\u001b[43m)\u001b[49m\n",
      "File \u001b[1;32mc:\\Users\\afiqhusaini.rosdi\\AppData\\Local\\anaconda3\\envs\\myenv\\Lib\\site-packages\\azure\\storage\\blob\\_shared\\response_handlers.py:186\u001b[0m, in \u001b[0;36mprocess_storage_error\u001b[1;34m(storage_error)\u001b[0m\n\u001b[0;32m    183\u001b[0m error\u001b[38;5;241m.\u001b[39margs \u001b[38;5;241m=\u001b[39m (error\u001b[38;5;241m.\u001b[39mmessage,)\n\u001b[0;32m    184\u001b[0m \u001b[38;5;28;01mtry\u001b[39;00m:\n\u001b[0;32m    185\u001b[0m     \u001b[38;5;66;03m# `from None` prevents us from double printing the exception (suppresses generated layer error context)\u001b[39;00m\n\u001b[1;32m--> 186\u001b[0m     \u001b[43mexec\u001b[49m\u001b[43m(\u001b[49m\u001b[38;5;124;43m\"\u001b[39;49m\u001b[38;5;124;43mraise error from None\u001b[39;49m\u001b[38;5;124;43m\"\u001b[39;49m\u001b[43m)\u001b[49m   \u001b[38;5;66;03m# pylint: disable=exec-used # nosec\u001b[39;00m\n\u001b[0;32m    187\u001b[0m \u001b[38;5;28;01mexcept\u001b[39;00m \u001b[38;5;167;01mSyntaxError\u001b[39;00m \u001b[38;5;28;01mas\u001b[39;00m exc:\n\u001b[0;32m    188\u001b[0m     \u001b[38;5;28;01mraise\u001b[39;00m error \u001b[38;5;28;01mfrom\u001b[39;00m \u001b[38;5;21;01mexc\u001b[39;00m\n",
      "File \u001b[1;32m<string>:1\u001b[0m\n",
      "File \u001b[1;32mc:\\Users\\afiqhusaini.rosdi\\AppData\\Local\\anaconda3\\envs\\myenv\\Lib\\site-packages\\azure\\storage\\blob\\_container_client.py:313\u001b[0m, in \u001b[0;36mContainerClient.create_container\u001b[1;34m(self, metadata, public_access, **kwargs)\u001b[0m\n\u001b[0;32m    311\u001b[0m container_cpk_scope_info \u001b[38;5;241m=\u001b[39m get_container_cpk_scope_info(kwargs)\n\u001b[0;32m    312\u001b[0m \u001b[38;5;28;01mtry\u001b[39;00m:\n\u001b[1;32m--> 313\u001b[0m     \u001b[38;5;28;01mreturn\u001b[39;00m \u001b[38;5;28;43mself\u001b[39;49m\u001b[38;5;241;43m.\u001b[39;49m\u001b[43m_client\u001b[49m\u001b[38;5;241;43m.\u001b[39;49m\u001b[43mcontainer\u001b[49m\u001b[38;5;241;43m.\u001b[39;49m\u001b[43mcreate\u001b[49m\u001b[43m(\u001b[49m\u001b[43m \u001b[49m\u001b[38;5;66;43;03m# type: ignore\u001b[39;49;00m\n\u001b[0;32m    314\u001b[0m \u001b[43m        \u001b[49m\u001b[43mtimeout\u001b[49m\u001b[38;5;241;43m=\u001b[39;49m\u001b[43mtimeout\u001b[49m\u001b[43m,\u001b[49m\n\u001b[0;32m    315\u001b[0m \u001b[43m        \u001b[49m\u001b[43maccess\u001b[49m\u001b[38;5;241;43m=\u001b[39;49m\u001b[43mpublic_access\u001b[49m\u001b[43m,\u001b[49m\n\u001b[0;32m    316\u001b[0m \u001b[43m        \u001b[49m\u001b[43mcontainer_cpk_scope_info\u001b[49m\u001b[38;5;241;43m=\u001b[39;49m\u001b[43mcontainer_cpk_scope_info\u001b[49m\u001b[43m,\u001b[49m\n\u001b[0;32m    317\u001b[0m \u001b[43m        \u001b[49m\u001b[38;5;28;43mcls\u001b[39;49m\u001b[38;5;241;43m=\u001b[39;49m\u001b[43mreturn_response_headers\u001b[49m\u001b[43m,\u001b[49m\n\u001b[0;32m    318\u001b[0m \u001b[43m        \u001b[49m\u001b[43mheaders\u001b[49m\u001b[38;5;241;43m=\u001b[39;49m\u001b[43mheaders\u001b[49m\u001b[43m,\u001b[49m\n\u001b[0;32m    319\u001b[0m \u001b[43m        \u001b[49m\u001b[38;5;241;43m*\u001b[39;49m\u001b[38;5;241;43m*\u001b[39;49m\u001b[43mkwargs\u001b[49m\u001b[43m)\u001b[49m\n\u001b[0;32m    320\u001b[0m \u001b[38;5;28;01mexcept\u001b[39;00m HttpResponseError \u001b[38;5;28;01mas\u001b[39;00m error:\n\u001b[0;32m    321\u001b[0m     process_storage_error(error)\n",
      "File \u001b[1;32mc:\\Users\\afiqhusaini.rosdi\\AppData\\Local\\anaconda3\\envs\\myenv\\Lib\\site-packages\\azure\\core\\tracing\\decorator.py:94\u001b[0m, in \u001b[0;36mdistributed_trace.<locals>.decorator.<locals>.wrapper_use_tracer\u001b[1;34m(*args, **kwargs)\u001b[0m\n\u001b[0;32m     92\u001b[0m span_impl_type \u001b[38;5;241m=\u001b[39m settings\u001b[38;5;241m.\u001b[39mtracing_implementation()\n\u001b[0;32m     93\u001b[0m \u001b[38;5;28;01mif\u001b[39;00m span_impl_type \u001b[38;5;129;01mis\u001b[39;00m \u001b[38;5;28;01mNone\u001b[39;00m:\n\u001b[1;32m---> 94\u001b[0m     \u001b[38;5;28;01mreturn\u001b[39;00m \u001b[43mfunc\u001b[49m\u001b[43m(\u001b[49m\u001b[38;5;241;43m*\u001b[39;49m\u001b[43margs\u001b[49m\u001b[43m,\u001b[49m\u001b[43m \u001b[49m\u001b[38;5;241;43m*\u001b[39;49m\u001b[38;5;241;43m*\u001b[39;49m\u001b[43mkwargs\u001b[49m\u001b[43m)\u001b[49m\n\u001b[0;32m     96\u001b[0m \u001b[38;5;66;03m# Merge span is parameter is set, but only if no explicit parent are passed\u001b[39;00m\n\u001b[0;32m     97\u001b[0m \u001b[38;5;28;01mif\u001b[39;00m merge_span \u001b[38;5;129;01mand\u001b[39;00m \u001b[38;5;129;01mnot\u001b[39;00m passed_in_parent:\n",
      "File \u001b[1;32mc:\\Users\\afiqhusaini.rosdi\\AppData\\Local\\anaconda3\\envs\\myenv\\Lib\\site-packages\\azure\\storage\\blob\\_generated\\operations\\_container_operations.py:989\u001b[0m, in \u001b[0;36mContainerOperations.create\u001b[1;34m(self, timeout, metadata, access, request_id_parameter, container_cpk_scope_info, **kwargs)\u001b[0m\n\u001b[0;32m    986\u001b[0m response \u001b[38;5;241m=\u001b[39m pipeline_response\u001b[38;5;241m.\u001b[39mhttp_response\n\u001b[0;32m    988\u001b[0m \u001b[38;5;28;01mif\u001b[39;00m response\u001b[38;5;241m.\u001b[39mstatus_code \u001b[38;5;129;01mnot\u001b[39;00m \u001b[38;5;129;01min\u001b[39;00m [\u001b[38;5;241m201\u001b[39m]:\n\u001b[1;32m--> 989\u001b[0m     \u001b[43mmap_error\u001b[49m\u001b[43m(\u001b[49m\u001b[43mstatus_code\u001b[49m\u001b[38;5;241;43m=\u001b[39;49m\u001b[43mresponse\u001b[49m\u001b[38;5;241;43m.\u001b[39;49m\u001b[43mstatus_code\u001b[49m\u001b[43m,\u001b[49m\u001b[43m \u001b[49m\u001b[43mresponse\u001b[49m\u001b[38;5;241;43m=\u001b[39;49m\u001b[43mresponse\u001b[49m\u001b[43m,\u001b[49m\u001b[43m \u001b[49m\u001b[43merror_map\u001b[49m\u001b[38;5;241;43m=\u001b[39;49m\u001b[43merror_map\u001b[49m\u001b[43m)\u001b[49m\n\u001b[0;32m    990\u001b[0m     error \u001b[38;5;241m=\u001b[39m \u001b[38;5;28mself\u001b[39m\u001b[38;5;241m.\u001b[39m_deserialize\u001b[38;5;241m.\u001b[39mfailsafe_deserialize(_models\u001b[38;5;241m.\u001b[39mStorageError, pipeline_response)\n\u001b[0;32m    991\u001b[0m     \u001b[38;5;28;01mraise\u001b[39;00m HttpResponseError(response\u001b[38;5;241m=\u001b[39mresponse, model\u001b[38;5;241m=\u001b[39merror)\n",
      "File \u001b[1;32mc:\\Users\\afiqhusaini.rosdi\\AppData\\Local\\anaconda3\\envs\\myenv\\Lib\\site-packages\\azure\\core\\exceptions.py:161\u001b[0m, in \u001b[0;36mmap_error\u001b[1;34m(status_code, response, error_map)\u001b[0m\n\u001b[0;32m    159\u001b[0m     \u001b[38;5;28;01mreturn\u001b[39;00m\n\u001b[0;32m    160\u001b[0m error \u001b[38;5;241m=\u001b[39m error_type(response\u001b[38;5;241m=\u001b[39mresponse)\n\u001b[1;32m--> 161\u001b[0m \u001b[38;5;28;01mraise\u001b[39;00m error\n",
      "\u001b[1;31mResourceExistsError\u001b[0m: The specified container already exists.\nRequestId:d4f23996-c6b2-4db4-ae7d-d667ce2af4c5\nTime:2024-11-01T03:23:24.197Z\nErrorCode:ContainerAlreadyExists\nContent: <?xml version=\"1.0\" encoding=\"UTF-8\" standalone=\"yes\"?>\n<Error>\n  <Code>ContainerAlreadyExists</Code>\n  <Message>The specified container already exists.\nRequestId:d4f23996-c6b2-4db4-ae7d-d667ce2af4c5\nTime:2024-11-01T03:23:24.197Z</Message>\n</Error>"
     ]
    }
   ],
   "source": [
    "blob_service_client.create_container(\"test-1\")"
   ]
  },
  {
   "cell_type": "markdown",
   "metadata": {},
   "source": [
    "### Get Container Client"
   ]
  },
  {
   "cell_type": "code",
   "execution_count": 7,
   "metadata": {},
   "outputs": [],
   "source": [
    "container_client_3 = blob_service_client.get_container_client(\"test-1\")"
   ]
  },
  {
   "cell_type": "markdown",
   "metadata": {},
   "source": [
    "### Delete blob container\n"
   ]
  },
  {
   "cell_type": "code",
   "execution_count": 8,
   "metadata": {},
   "outputs": [
    {
     "name": "stdout",
     "output_type": "stream",
     "text": [
      "Container deleted successfully.\n"
     ]
    }
   ],
   "source": [
    "try:\n",
    "    blob_service_client.delete_container(\"my-container\")\n",
    "    print(\"Container deleted successfully.\")\n",
    "except Exception as e:\n",
    "    print(f\"Error: {e}\")\n"
   ]
  },
  {
   "cell_type": "markdown",
   "metadata": {},
   "source": [
    "### List container"
   ]
  },
  {
   "cell_type": "code",
   "execution_count": null,
   "metadata": {},
   "outputs": [
    {
     "name": "stdout",
     "output_type": "stream",
     "text": [
      "Listing containers and blobs:\n",
      " - Container: baru\n",
      " - Container: temp-container-01\n",
      "   - Blob: 210923 IP HD Camera And ANPR Engine IP ADDRESS DETAILS 2.csv\n",
      "   - Blob: C:/Users/afiqhusaini.rosdi/OneDrive - PLUS MALAYSIA BERHAD/Documents/Working_Projects/software-apm-template/210923 IP HD Camera And ANPR Engine IP ADDRESS DETAILS 2.xlsx\n",
      "   - Blob: images.csv\n",
      " - Container: test-1\n"
     ]
    }
   ],
   "source": [
    "def list_containers_and_blobs():\n",
    "\n",
    "    containers = blob_service_client.list_containers()\n",
    "\n",
    "    print(\"Listing containers and blobs:\")\n",
    "\n",
    "    for container in containers:\n",
    "        print(f\" - Container: {container.name}\")\n",
    "\n",
    "        container_client = blob_service_client.get_container_client(container)\n",
    "        blobs = container_client.list_blobs()\n",
    "\n",
    "        for blob in blobs:\n",
    "            print(f\"   - Blob: {blob.name}\")\n"
   ]
  },
  {
   "cell_type": "markdown",
   "metadata": {},
   "source": [
    "### List blobs"
   ]
  },
  {
   "cell_type": "code",
   "execution_count": 10,
   "metadata": {},
   "outputs": [
    {
     "name": "stdout",
     "output_type": "stream",
     "text": [
      "Blob name: 210923 IP HD Camera And ANPR Engine IP ADDRESS DETAILS 2.csv\n",
      "Blob name: C:/Users/afiqhusaini.rosdi/OneDrive - PLUS MALAYSIA BERHAD/Documents/Working_Projects/software-apm-template/210923 IP HD Camera And ANPR Engine IP ADDRESS DETAILS 2.xlsx\n",
      "Blob name: images.csv\n"
     ]
    }
   ],
   "source": [
    "# def list_blobs(container_name):\n",
    "container_client = blob_service_client.get_container_client(container_name)\n",
    "blobs = container_client.list_blobs()\n",
    "for blob in blobs:\n",
    "    print(f\"Blob name: {blob.name}\")\n"
   ]
  },
  {
   "cell_type": "markdown",
   "metadata": {},
   "source": [
    "### Download / Fetch from blob container"
   ]
  },
  {
   "cell_type": "code",
   "execution_count": 23,
   "metadata": {},
   "outputs": [
    {
     "name": "stdout",
     "output_type": "stream",
     "text": [
      "Blob downloaded to downloaded_blob.csv\n"
     ]
    }
   ],
   "source": [
    "\n",
    "# Define the container and blob name\n",
    "container_name = \"temp-container-01\"\n",
    "blob_name = \"images.csv\"\n",
    "download_file_path = \"downloaded_blob.csv\"\n",
    "\n",
    "# Get the BlobClient for the specific blob\n",
    "blob_client = blob_service_client.get_blob_client(container=container_name, blob=blob_name)\n",
    "\n",
    "# Download and save the blob content to a local file\n",
    "with open(download_file_path, \"wb\") as download_file:\n",
    "    download_file.write(blob_client.download_blob().readall())\n",
    "\n",
    "print(f\"Blob downloaded to {download_file_path}\")\n"
   ]
  },
  {
   "cell_type": "code",
   "execution_count": null,
   "metadata": {},
   "outputs": [],
   "source": [
    "import pandas as pd\n",
    "\n",
    "# Define the container and blob name\n",
    "container_name = \"temp-container-01\"\n",
    "blob_name = \"images.csv\"\n",
    "\n",
    "# Get the BlobClient for the specific blob\n",
    "blob_client = blob_service_client.get_blob_client(container=container_name, blob=blob_name)\n",
    "\n",
    "# Download the blob content\n",
    "blob_data = blob_client.download_blob().readall()\n",
    "blob_data  # Output blob content as bytes\n"
   ]
  },
  {
   "cell_type": "code",
   "execution_count": 19,
   "metadata": {},
   "outputs": [
    {
     "data": {
      "text/plain": [
       "'c:\\\\Users\\\\afiqhusaini.rosdi\\\\OneDrive - PLUS MALAYSIA BERHAD\\\\Documents\\\\Working_Projects\\\\software-apm-template\\\\blobstorage'"
      ]
     },
     "execution_count": 19,
     "metadata": {},
     "output_type": "execute_result"
    }
   ],
   "source": [
    "%pwd"
   ]
  }
 ],
 "metadata": {
  "kernelspec": {
   "display_name": "rnd-env",
   "language": "python",
   "name": "python3"
  },
  "language_info": {
   "codemirror_mode": {
    "name": "ipython",
    "version": 3
   },
   "file_extension": ".py",
   "mimetype": "text/x-python",
   "name": "python",
   "nbconvert_exporter": "python",
   "pygments_lexer": "ipython3",
   "version": "3.13.0"
  }
 },
 "nbformat": 4,
 "nbformat_minor": 2
}
